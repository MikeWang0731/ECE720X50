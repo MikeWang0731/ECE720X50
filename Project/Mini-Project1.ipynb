{
 "cells": [
  {
   "cell_type": "code",
   "execution_count": 1,
   "metadata": {},
   "outputs": [],
   "source": [
    "import numpy as np\n",
    "import pandas as pd\n",
    "import matplotlib as plt"
   ]
  },
  {
   "cell_type": "code",
   "execution_count": 7,
   "metadata": {},
   "outputs": [
    {
     "output_type": "execute_result",
     "data": {
      "text/plain": [
       "           date_time_local    unixtime  pressure_station  pressure_sea  \\\n",
       "0  2018-12-18 16:00:00 MST  1545174000             91.73          99.7   \n",
       "1  2018-12-18 15:00:00 MST  1545170400             91.67          99.7   \n",
       "2  2018-12-18 14:00:00 MST  1545166800             91.67          99.6   \n",
       "3  2018-12-18 13:00:00 MST  1545163200             91.66          99.6   \n",
       "4  2018-12-18 12:00:00 MST  1545159600             91.75          99.7   \n",
       "\n",
       "  wind_dir  wind_dir_10s  wind_speed  wind_gust  relative_humidity  dew_point  \\\n",
       "0       SW          23.0         5.0        NaN               64.0       -7.3   \n",
       "1        S          18.0         5.0        NaN               65.0       -6.3   \n",
       "2        S          17.0         5.0        NaN               51.0       -6.5   \n",
       "3       SE          13.0         2.0        NaN               50.0       -6.4   \n",
       "4      NaN           NaN         0.0        NaN               59.0       -6.6   \n",
       "\n",
       "   temperature  windchill  humidex  visibility  health_index  cloud_cover_4  \\\n",
       "0         -1.3       -3.0      NaN         NaN           NaN            NaN   \n",
       "1         -0.5       -2.0      NaN         NaN           4.0            NaN   \n",
       "2          2.7        NaN      NaN         NaN           4.0            NaN   \n",
       "3          2.9        NaN      NaN         NaN           3.9            NaN   \n",
       "4          0.5        NaN      NaN         NaN           4.1            NaN   \n",
       "\n",
       "   cloud_cover_8  cloud_cover_10  solar_radiation  \n",
       "0            NaN             NaN              NaN  \n",
       "1            NaN             NaN              NaN  \n",
       "2            NaN             NaN              NaN  \n",
       "3            NaN             NaN              NaN  \n",
       "4            NaN             NaN              NaN  "
      ],
      "text/html": "<div>\n<style scoped>\n    .dataframe tbody tr th:only-of-type {\n        vertical-align: middle;\n    }\n\n    .dataframe tbody tr th {\n        vertical-align: top;\n    }\n\n    .dataframe thead th {\n        text-align: right;\n    }\n</style>\n<table border=\"1\" class=\"dataframe\">\n  <thead>\n    <tr style=\"text-align: right;\">\n      <th></th>\n      <th>date_time_local</th>\n      <th>unixtime</th>\n      <th>pressure_station</th>\n      <th>pressure_sea</th>\n      <th>wind_dir</th>\n      <th>wind_dir_10s</th>\n      <th>wind_speed</th>\n      <th>wind_gust</th>\n      <th>relative_humidity</th>\n      <th>dew_point</th>\n      <th>temperature</th>\n      <th>windchill</th>\n      <th>humidex</th>\n      <th>visibility</th>\n      <th>health_index</th>\n      <th>cloud_cover_4</th>\n      <th>cloud_cover_8</th>\n      <th>cloud_cover_10</th>\n      <th>solar_radiation</th>\n    </tr>\n  </thead>\n  <tbody>\n    <tr>\n      <th>0</th>\n      <td>2018-12-18 16:00:00 MST</td>\n      <td>1545174000</td>\n      <td>91.73</td>\n      <td>99.7</td>\n      <td>SW</td>\n      <td>23.0</td>\n      <td>5.0</td>\n      <td>NaN</td>\n      <td>64.0</td>\n      <td>-7.3</td>\n      <td>-1.3</td>\n      <td>-3.0</td>\n      <td>NaN</td>\n      <td>NaN</td>\n      <td>NaN</td>\n      <td>NaN</td>\n      <td>NaN</td>\n      <td>NaN</td>\n      <td>NaN</td>\n    </tr>\n    <tr>\n      <th>1</th>\n      <td>2018-12-18 15:00:00 MST</td>\n      <td>1545170400</td>\n      <td>91.67</td>\n      <td>99.7</td>\n      <td>S</td>\n      <td>18.0</td>\n      <td>5.0</td>\n      <td>NaN</td>\n      <td>65.0</td>\n      <td>-6.3</td>\n      <td>-0.5</td>\n      <td>-2.0</td>\n      <td>NaN</td>\n      <td>NaN</td>\n      <td>4.0</td>\n      <td>NaN</td>\n      <td>NaN</td>\n      <td>NaN</td>\n      <td>NaN</td>\n    </tr>\n    <tr>\n      <th>2</th>\n      <td>2018-12-18 14:00:00 MST</td>\n      <td>1545166800</td>\n      <td>91.67</td>\n      <td>99.6</td>\n      <td>S</td>\n      <td>17.0</td>\n      <td>5.0</td>\n      <td>NaN</td>\n      <td>51.0</td>\n      <td>-6.5</td>\n      <td>2.7</td>\n      <td>NaN</td>\n      <td>NaN</td>\n      <td>NaN</td>\n      <td>4.0</td>\n      <td>NaN</td>\n      <td>NaN</td>\n      <td>NaN</td>\n      <td>NaN</td>\n    </tr>\n    <tr>\n      <th>3</th>\n      <td>2018-12-18 13:00:00 MST</td>\n      <td>1545163200</td>\n      <td>91.66</td>\n      <td>99.6</td>\n      <td>SE</td>\n      <td>13.0</td>\n      <td>2.0</td>\n      <td>NaN</td>\n      <td>50.0</td>\n      <td>-6.4</td>\n      <td>2.9</td>\n      <td>NaN</td>\n      <td>NaN</td>\n      <td>NaN</td>\n      <td>3.9</td>\n      <td>NaN</td>\n      <td>NaN</td>\n      <td>NaN</td>\n      <td>NaN</td>\n    </tr>\n    <tr>\n      <th>4</th>\n      <td>2018-12-18 12:00:00 MST</td>\n      <td>1545159600</td>\n      <td>91.75</td>\n      <td>99.7</td>\n      <td>NaN</td>\n      <td>NaN</td>\n      <td>0.0</td>\n      <td>NaN</td>\n      <td>59.0</td>\n      <td>-6.6</td>\n      <td>0.5</td>\n      <td>NaN</td>\n      <td>NaN</td>\n      <td>NaN</td>\n      <td>4.1</td>\n      <td>NaN</td>\n      <td>NaN</td>\n      <td>NaN</td>\n      <td>NaN</td>\n    </tr>\n  </tbody>\n</table>\n</div>"
     },
     "metadata": {},
     "execution_count": 7
    }
   ],
   "source": [
    "weather=pd.read_csv('../Database/weatherstats_edmonton_hourly.csv')\n",
    "weather.head()"
   ]
  },
  {
   "cell_type": "code",
   "execution_count": 9,
   "metadata": {},
   "outputs": [
    {
     "output_type": "execute_result",
     "data": {
      "text/plain": [
       "                Trap Date     Genus Specific Epithet  Gender   IDd  Count  \\\n",
       "0  09/15/2015 12:00:00 AM     Aedes           vexans  Female   NaN      3   \n",
       "1  05/12/1998 12:00:00 AM      Male             UnID    Male  UnID      1   \n",
       "2  08/28/2001 12:00:00 AM     Culex         tarsalis  Female   NaN      1   \n",
       "3  08/17/2004 12:00:00 AM     Culex        territans  Female   NaN      1   \n",
       "4  05/15/2018 12:00:00 AM  Culiseta        impatiens  Female   NaN      2   \n",
       "\n",
       "        Trap Region Include Comparison Group   Latitude   Longitude  \\\n",
       "0        Rural-West     NaN            Outer  53.562973 -113.787353   \n",
       "1  Rural-North West     NaN       Peripheral  53.617221 -113.716182   \n",
       "2  Rural-North West     NaN       Peripheral  53.617221 -113.716182   \n",
       "3  Rural-North West     NaN       Peripheral  53.617221 -113.716182   \n",
       "4        Rural-West     NaN            Outer  53.559020 -114.001190   \n",
       "\n",
       "                                Location  \n",
       "0         POINT (-113.787353 53.5629733)  \n",
       "1          POINT (-113.716182 53.617221)  \n",
       "2          POINT (-113.716182 53.617221)  \n",
       "3          POINT (-113.716182 53.617221)  \n",
       "4  POINT (-114.00119 53.559020000000004)  "
      ],
      "text/html": "<div>\n<style scoped>\n    .dataframe tbody tr th:only-of-type {\n        vertical-align: middle;\n    }\n\n    .dataframe tbody tr th {\n        vertical-align: top;\n    }\n\n    .dataframe thead th {\n        text-align: right;\n    }\n</style>\n<table border=\"1\" class=\"dataframe\">\n  <thead>\n    <tr style=\"text-align: right;\">\n      <th></th>\n      <th>Trap Date</th>\n      <th>Genus</th>\n      <th>Specific Epithet</th>\n      <th>Gender</th>\n      <th>IDd</th>\n      <th>Count</th>\n      <th>Trap Region</th>\n      <th>Include</th>\n      <th>Comparison Group</th>\n      <th>Latitude</th>\n      <th>Longitude</th>\n      <th>Location</th>\n    </tr>\n  </thead>\n  <tbody>\n    <tr>\n      <th>0</th>\n      <td>09/15/2015 12:00:00 AM</td>\n      <td>Aedes</td>\n      <td>vexans</td>\n      <td>Female</td>\n      <td>NaN</td>\n      <td>3</td>\n      <td>Rural-West</td>\n      <td>NaN</td>\n      <td>Outer</td>\n      <td>53.562973</td>\n      <td>-113.787353</td>\n      <td>POINT (-113.787353 53.5629733)</td>\n    </tr>\n    <tr>\n      <th>1</th>\n      <td>05/12/1998 12:00:00 AM</td>\n      <td>Male</td>\n      <td>UnID</td>\n      <td>Male</td>\n      <td>UnID</td>\n      <td>1</td>\n      <td>Rural-North West</td>\n      <td>NaN</td>\n      <td>Peripheral</td>\n      <td>53.617221</td>\n      <td>-113.716182</td>\n      <td>POINT (-113.716182 53.617221)</td>\n    </tr>\n    <tr>\n      <th>2</th>\n      <td>08/28/2001 12:00:00 AM</td>\n      <td>Culex</td>\n      <td>tarsalis</td>\n      <td>Female</td>\n      <td>NaN</td>\n      <td>1</td>\n      <td>Rural-North West</td>\n      <td>NaN</td>\n      <td>Peripheral</td>\n      <td>53.617221</td>\n      <td>-113.716182</td>\n      <td>POINT (-113.716182 53.617221)</td>\n    </tr>\n    <tr>\n      <th>3</th>\n      <td>08/17/2004 12:00:00 AM</td>\n      <td>Culex</td>\n      <td>territans</td>\n      <td>Female</td>\n      <td>NaN</td>\n      <td>1</td>\n      <td>Rural-North West</td>\n      <td>NaN</td>\n      <td>Peripheral</td>\n      <td>53.617221</td>\n      <td>-113.716182</td>\n      <td>POINT (-113.716182 53.617221)</td>\n    </tr>\n    <tr>\n      <th>4</th>\n      <td>05/15/2018 12:00:00 AM</td>\n      <td>Culiseta</td>\n      <td>impatiens</td>\n      <td>Female</td>\n      <td>NaN</td>\n      <td>2</td>\n      <td>Rural-West</td>\n      <td>NaN</td>\n      <td>Outer</td>\n      <td>53.559020</td>\n      <td>-114.001190</td>\n      <td>POINT (-114.00119 53.559020000000004)</td>\n    </tr>\n  </tbody>\n</table>\n</div>"
     },
     "metadata": {},
     "execution_count": 9
    }
   ],
   "source": [
    "mosquito=pd.read_csv('../Database/Mosquito_Trap_Data.csv')\n",
    "mosquito.head()"
   ]
  },
  {
   "cell_type": "code",
   "execution_count": null,
   "metadata": {},
   "outputs": [],
   "source": []
  }
 ],
 "metadata": {
  "kernelspec": {
   "display_name": "Python 3",
   "language": "python",
   "name": "python3"
  },
  "language_info": {
   "codemirror_mode": {
    "name": "ipython",
    "version": 3
   },
   "file_extension": ".py",
   "mimetype": "text/x-python",
   "name": "python",
   "nbconvert_exporter": "python",
   "pygments_lexer": "ipython3",
   "version": "3.7.6-final"
  },
  "toc": {
   "base_numbering": 1,
   "nav_menu": {},
   "number_sections": true,
   "sideBar": true,
   "skip_h1_title": false,
   "title_cell": "Table of Contents",
   "title_sidebar": "Contents",
   "toc_cell": false,
   "toc_position": {},
   "toc_section_display": true,
   "toc_window_display": false
  }
 },
 "nbformat": 4,
 "nbformat_minor": 4
}